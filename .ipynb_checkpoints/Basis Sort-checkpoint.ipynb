{
 "cells": [
  {
   "cell_type": "markdown",
   "id": "124ca13a",
   "metadata": {},
   "source": [
    "## 정렬 Sort"
   ]
  },
  {
   "cell_type": "markdown",
   "id": "933a2644",
   "metadata": {},
   "source": [
    "### Bubble Sort <br>\n",
    "인접한 두 수를 비교하여 정렬하는 기법"
   ]
  },
  {
   "cell_type": "code",
   "execution_count": 15,
   "id": "e9320b61",
   "metadata": {},
   "outputs": [],
   "source": [
    "def bubble_sort(num_list):\n",
    "    for i in range(len(num_list)):\n",
    "        for j in range(len(num_list)-i-1):\n",
    "            if num_list[j] > num_list[j+1]:\n",
    "                num_list[j], num_list[j+1] = num_list[j+1], num_list[j]\n",
    "                \n",
    "    return num_list"
   ]
  },
  {
   "cell_type": "code",
   "execution_count": 19,
   "id": "8dbfaa33",
   "metadata": {},
   "outputs": [
    {
     "name": "stdout",
     "output_type": "stream",
     "text": [
      "[47, 99, 44, 38, 22, 77, 64, 87, 45, 60]\n",
      "bubble [22, 38, 44, 45, 47, 60, 64, 77, 87, 99]\n"
     ]
    }
   ],
   "source": [
    "import random\n",
    "a = random.sample(range(100),10)\n",
    "print(a)\n",
    "print('bubble',bubble_sort(a))"
   ]
  },
  {
   "cell_type": "markdown",
   "id": "302351c9",
   "metadata": {},
   "source": [
    "### Insertion Sort <br>\n",
    "+ 두번째 index 부터 시작\n",
    "+ index를 앞으로 옮겨가면서 data 비교 앞의 data가 현재 data 보다 작다면 앞의 data 뒤의 index 부여"
   ]
  },
  {
   "cell_type": "code",
   "execution_count": 53,
   "id": "cb4f99f9",
   "metadata": {},
   "outputs": [],
   "source": [
    "def insertion_sort(num_list):\n",
    "    \n",
    "    for i in range(len(num_list)-1):\n",
    "        for j in range(i+1, 0, -1):\n",
    "            if num_list[j] < num_list[j-1]:\n",
    "                num_list[j], num_list[j-1] = num_list[j-1], num_list[j]\n",
    "            else:\n",
    "                break\n",
    "    return num_list"
   ]
  },
  {
   "cell_type": "code",
   "execution_count": 55,
   "id": "abdea304",
   "metadata": {},
   "outputs": [
    {
     "name": "stdout",
     "output_type": "stream",
     "text": [
      "[71, 3, 92, 67, 2, 35, 36, 8, 74, 97]\n",
      "insertion [2, 3, 8, 35, 36, 67, 71, 74, 92, 97]\n"
     ]
    }
   ],
   "source": [
    "import random\n",
    "a = random.sample(range(100),10)\n",
    "print(a)\n",
    "print('insertion',insertion_sort(a))"
   ]
  },
  {
   "cell_type": "markdown",
   "id": "ea02151c",
   "metadata": {},
   "source": [
    "### Selection Sort"
   ]
  },
  {
   "cell_type": "code",
   "execution_count": 121,
   "id": "9af761df",
   "metadata": {},
   "outputs": [],
   "source": [
    "def selection_sort(num_list):\n",
    "    for i in range(len(num_list)):\n",
    "        lowest = i\n",
    "        \n",
    "        for j in range(i, len(num_list)):\n",
    "            if num_list[lowest] > num_list[j]:\n",
    "                lowest = j\n",
    "                \n",
    "        num_list[lowest], num_list[i] = num_list[i], num_list[lowest]\n",
    "        \n",
    "    return num_list"
   ]
  },
  {
   "cell_type": "code",
   "execution_count": 123,
   "id": "df5c30b9",
   "metadata": {},
   "outputs": [
    {
     "name": "stdout",
     "output_type": "stream",
     "text": [
      "[44, 34, 75, 29, 24, 38, 21, 36, 82, 22]\n",
      "insertion [21, 22, 24, 29, 34, 36, 38, 44, 75, 82]\n"
     ]
    }
   ],
   "source": [
    "import random\n",
    "a = random.sample(range(100),10)\n",
    "print(a)\n",
    "print('insertion',selection_sort(a))"
   ]
  }
 ],
 "metadata": {
  "kernelspec": {
   "display_name": "Python 3 (ipykernel)",
   "language": "python",
   "name": "python3"
  },
  "language_info": {
   "codemirror_mode": {
    "name": "ipython",
    "version": 3
   },
   "file_extension": ".py",
   "mimetype": "text/x-python",
   "name": "python",
   "nbconvert_exporter": "python",
   "pygments_lexer": "ipython3",
   "version": "3.8.10"
  }
 },
 "nbformat": 4,
 "nbformat_minor": 5
}
