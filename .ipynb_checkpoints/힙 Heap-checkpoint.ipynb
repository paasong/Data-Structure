{
 "cells": [
  {
   "cell_type": "markdown",
   "id": "61e42a95",
   "metadata": {},
   "source": [
    "## Heap 구현 ##\n",
    "### 배열 구현 ###"
   ]
  },
  {
   "cell_type": "markdown",
   "id": "59b80234",
   "metadata": {},
   "source": [
    "- 배열은 인덱스가 0부터 시작하지만, 편의를 위해 root node의 인덱스는 1로 지정 (0에는 유의미한 값이 들어가지 않음)\n",
    "    - Parent Node's index = Child Node's index // 2\n",
    "    - Left Child Node's index = Parent Node's index * 2\n",
    "    - Righ Child Node's index = Parent Node's index * 2 + 1"
   ]
  },
  {
   "cell_type": "markdown",
   "id": "0c510300",
   "metadata": {},
   "source": [
    "\n",
    "heap class"
   ]
  },
  {
   "cell_type": "code",
   "execution_count": 156,
   "id": "e23cae1b",
   "metadata": {},
   "outputs": [],
   "source": [
    "class Heap:\n",
    "    def __init__(self, data):\n",
    "        self.heap_array = list()\n",
    "        self.heap_array.append(None)\n",
    "        self.heap_array.append(data)\n",
    "    \n",
    "    def move_down(self, popped_idx):\n",
    "        left_child_popped_idx = popped_idx * 2\n",
    "        right_child_popped_idx = popped_idx * 2 + 1\n",
    "        \n",
    "        # case1: No left node\n",
    "        if left_child_popped_idx >= len(self.heap_array):\n",
    "            return False\n",
    "        # case2: No right node\n",
    "        elif right_child_popped_idx >= len(self.heap_array):\n",
    "            if self.heap_array[popped_idx] < self.heap_array[left_child_popped_idx]:\n",
    "                return True\n",
    "            else:\n",
    "                return False\n",
    "        # case3: exgist both node\n",
    "        else:\n",
    "            if self.heap_array[left_child_popped_idx] > self.heap_array[right_child_popped_idx]:\n",
    "                if self.heap_array[popped_idx] < self.heap_array[left_child_popped_idx]:\n",
    "                    return True\n",
    "                else:\n",
    "                    return False\n",
    "            else:\n",
    "                if self.heap_array[popped_idx] < self.heap_array[right_child_popped_idx]:\n",
    "                    return True\n",
    "                else:\n",
    "                    return False\n",
    "    \n",
    "    def pop(self):\n",
    "        if len(self.heap_array) <= 1:\n",
    "            return None\n",
    "        \n",
    "        returned_data = self.heap_array[1]\n",
    "        self.heap_array[1] = self.heap_array[-1]\n",
    "        del self.heap_array[-1]\n",
    "        popped_idx = 1\n",
    "        \n",
    "        while self.move_down(popped_idx):\n",
    "            left_child_popped_idx = popped_idx * 2\n",
    "            right_child_popped_idx = popped_idx * 2 + 1\n",
    "\n",
    "            # case2: No right node\n",
    "            if right_child_popped_idx >= len(self.heap_array):\n",
    "                if self.heap_array[popped_idx] < self.heap_array[left_child_popped_idx]:\n",
    "                    self.heap_array[popped_idx], self.heap_array[left_child_popped_idx] = self.heap_array[left_child_popped_idx], self.heap_array[popped_idx]\n",
    "                    popped_idx = left_child_popped_idx\n",
    "            # case3: exgist both node\n",
    "            else:\n",
    "                if self.heap_array[left_child_popped_idx] > self.heap_array[right_child_popped_idx]:\n",
    "                    if self.heap_array[popped_idx] < self.heap_array[left_child_popped_idx]:\n",
    "                        self.heap_array[popped_idx], self.heap_array[left_child_popped_idx] = self.heap_array[left_child_popped_idx], self.heap_array[popped_idx]\n",
    "                        popped_idx = left_child_popped_idx\n",
    "                else:\n",
    "                    if self.heap_array[popped_idx] < self.heap_array[right_child_popped_idx]:\n",
    "                        self.heap_array[popped_idx], self.heap_array[right_child_popped_idx] = self.heap_array[right_child_popped_idx], self.heap_array[popped_idx]\n",
    "                        popped_idx = right_child_popped_idx\n",
    "        \n",
    "        return returned_data\n",
    "    \n",
    "    def move_up(self, inserted_idx):\n",
    "        if inserted_idx <= 1:\n",
    "            return False\n",
    "        parent_idx = inserted_idx // 2\n",
    "        if self.heap_array[inserted_idx] > self.heap_array[parent_idx]:\n",
    "            return True\n",
    "        else:\n",
    "            return False\n",
    "\n",
    "    def insert(self, data):\n",
    "        if len(self.heap_array) == 1:\n",
    "            self.heap_array.append(data)\n",
    "            return True\n",
    "        \n",
    "        self.heap_array.append(data)\n",
    "        inserted_idx = len(self.heap_array) - 1\n",
    "        \n",
    "        while self.move_up(inserted_idx):\n",
    "            parent_idx = inserted_idx // 2\n",
    "            self.heap_array[inserted_idx], self.heap_array[parent_idx] = self.heap_array[parent_idx], self.heap_array[inserted_idx]\n",
    "            inserted_idx = parent_idx\n",
    "        return True    "
   ]
  },
  {
   "cell_type": "code",
   "execution_count": 157,
   "id": "ab11cfbc",
   "metadata": {},
   "outputs": [
    {
     "name": "stdout",
     "output_type": "stream",
     "text": [
      "[None, 20, 10, 15, 5, 4, 8]\n"
     ]
    }
   ],
   "source": [
    "heap = Heap(15)\n",
    "heap.insert(10)\n",
    "heap.insert(8)\n",
    "heap.insert(5)\n",
    "heap.insert(4)\n",
    "heap.insert(20)\n",
    "print(heap.heap_array)"
   ]
  },
  {
   "cell_type": "code",
   "execution_count": 158,
   "id": "74c136ff",
   "metadata": {},
   "outputs": [
    {
     "data": {
      "text/plain": [
       "20"
      ]
     },
     "execution_count": 158,
     "metadata": {},
     "output_type": "execute_result"
    }
   ],
   "source": [
    "heap.pop()"
   ]
  },
  {
   "cell_type": "code",
   "execution_count": 159,
   "id": "34c7bc0c",
   "metadata": {},
   "outputs": [
    {
     "data": {
      "text/plain": [
       "[None, 15, 10, 8, 5, 4]"
      ]
     },
     "execution_count": 159,
     "metadata": {},
     "output_type": "execute_result"
    }
   ],
   "source": [
    "heap.heap_array"
   ]
  },
  {
   "cell_type": "code",
   "execution_count": 160,
   "id": "d5cabb96",
   "metadata": {},
   "outputs": [
    {
     "data": {
      "text/plain": [
       "[None, 15, 10, 8, 5, 4]"
      ]
     },
     "execution_count": 160,
     "metadata": {},
     "output_type": "execute_result"
    }
   ],
   "source": [
    "heap.heap_array"
   ]
  }
 ],
 "metadata": {
  "kernelspec": {
   "display_name": "Python 3 (ipykernel)",
   "language": "python",
   "name": "python3"
  },
  "language_info": {
   "codemirror_mode": {
    "name": "ipython",
    "version": 3
   },
   "file_extension": ".py",
   "mimetype": "text/x-python",
   "name": "python",
   "nbconvert_exporter": "python",
   "pygments_lexer": "ipython3",
   "version": "3.8.10"
  }
 },
 "nbformat": 4,
 "nbformat_minor": 5
}
