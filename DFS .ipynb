{
 "cells": [
  {
   "cell_type": "markdown",
   "id": "fa4a6b22",
   "metadata": {},
   "source": [
    "## DFS 구현"
   ]
  },
  {
   "cell_type": "code",
   "execution_count": 3,
   "id": "acb066f1",
   "metadata": {},
   "outputs": [],
   "source": [
    "# 그래프 생성하기\n",
    "graph = dict()\n",
    "\n",
    "graph['A'] = [\"B\", \"C\"]\n",
    "graph['B'] = [\"A\", \"D\"]\n",
    "graph['C'] = [\"A\", \"G\", \"H\", \"I\"]\n",
    "graph['D'] = [\"B\", \"E\", \"F\"]\n",
    "graph[\"E\"] = [\"D\"]\n",
    "graph[\"F\"] = [\"D\"]\n",
    "graph[\"G\"] = [\"C\"]\n",
    "graph[\"H\"] = [\"C\"]\n",
    "graph[\"I\"] = [\"C\", \"J\"]\n",
    "graph[\"J\"] = [\"I\"]"
   ]
  },
  {
   "cell_type": "code",
   "execution_count": 4,
   "id": "deac1b32",
   "metadata": {},
   "outputs": [],
   "source": [
    "def dfs(graph, start):\n",
    "    visited, need_visit = list(), list()\n",
    "    need_visit.append(start)\n",
    "    \n",
    "    \n",
    "    while need_visit:\n",
    "        node = need_visit.pop()\n",
    "        if node not in visited:\n",
    "            visited.append(node)\n",
    "            need_visit.extend(graph[node])\n",
    "            \n",
    "    return visited\n",
    "            "
   ]
  },
  {
   "cell_type": "code",
   "execution_count": 5,
   "id": "b7191d74",
   "metadata": {},
   "outputs": [
    {
     "data": {
      "text/plain": [
       "['A', 'C', 'I', 'J', 'H', 'G', 'B', 'D', 'F', 'E']"
      ]
     },
     "execution_count": 5,
     "metadata": {},
     "output_type": "execute_result"
    }
   ],
   "source": [
    "dfs(graph, 'A')"
   ]
  }
 ],
 "metadata": {
  "kernelspec": {
   "display_name": "Python 3 (ipykernel)",
   "language": "python",
   "name": "python3"
  },
  "language_info": {
   "codemirror_mode": {
    "name": "ipython",
    "version": 3
   },
   "file_extension": ".py",
   "mimetype": "text/x-python",
   "name": "python",
   "nbconvert_exporter": "python",
   "pygments_lexer": "ipython3",
   "version": "3.9.13"
  }
 },
 "nbformat": 4,
 "nbformat_minor": 5
}
