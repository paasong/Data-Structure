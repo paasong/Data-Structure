{
 "cells": [
  {
   "cell_type": "markdown",
   "id": "893db198",
   "metadata": {},
   "source": [
    "# Log function 사용하기\n",
    "### math 라이브러리에 log 메서드 사용"
   ]
  },
  {
   "cell_type": "code",
   "execution_count": 2,
   "id": "b8ae2b03",
   "metadata": {},
   "outputs": [],
   "source": [
    "import math"
   ]
  },
  {
   "cell_type": "markdown",
   "id": "d4279284",
   "metadata": {},
   "source": [
    "### 밑이 n인 log function\n",
    "#### math.log(진수, 밑)\n",
    "#### 계산에 쓰이는 byte 수가 정해져있기 때문에  정확도가 높아야하는 경우 이러한 식을 쓰는 것을 고려해야 한다."
   ]
  },
  {
   "cell_type": "code",
   "execution_count": 6,
   "id": "c928cb0f",
   "metadata": {},
   "outputs": [
    {
     "name": "stdout",
     "output_type": "stream",
     "text": [
      "1.0\n",
      "2.0\n",
      "3.0000000000000004\n"
     ]
    }
   ],
   "source": [
    "n = 5\n",
    "print(math.log(5,n))\n",
    "print(math.log(25,n))\n",
    "print(math.log(125,n))"
   ]
  },
  {
   "cell_type": "markdown",
   "id": "bf0eb899",
   "metadata": {},
   "source": [
    "#### 밑이 2, 10, e인 경우 다르게 쓸 수 있음"
   ]
  },
  {
   "cell_type": "code",
   "execution_count": 9,
   "id": "f9a7e347",
   "metadata": {},
   "outputs": [
    {
     "name": "stdout",
     "output_type": "stream",
     "text": [
      "1.0\n",
      "2.0\n",
      "3.0\n",
      "1.0\n",
      "2.0\n",
      "3.0\n",
      "1.0\n",
      "2.0\n",
      "3.0\n"
     ]
    }
   ],
   "source": [
    "print(math.log2(2))\n",
    "print(math.log2(4))\n",
    "print(math.log2(8))\n",
    "\n",
    "print(math.log10(10))\n",
    "print(math.log10(100))\n",
    "print(math.log10(1000))\n",
    "\n",
    "print(math.log(math.e))\n",
    "print(math.log(math.e**2))\n",
    "print(math.log(math.e**3))\n",
    "\n",
    "\n",
    "n = 2\n",
    "l2 = math.log2(4)\n",
    "l2_2 = math.log(4, n)"
   ]
  }
 ],
 "metadata": {
  "kernelspec": {
   "display_name": "Python 3 (ipykernel)",
   "language": "python",
   "name": "python3"
  },
  "language_info": {
   "codemirror_mode": {
    "name": "ipython",
    "version": 3
   },
   "file_extension": ".py",
   "mimetype": "text/x-python",
   "name": "python",
   "nbconvert_exporter": "python",
   "pygments_lexer": "ipython3",
   "version": "3.8.10"
  }
 },
 "nbformat": 4,
 "nbformat_minor": 5
}
