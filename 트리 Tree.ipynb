{
 "cells": [
  {
   "cell_type": "markdown",
   "id": "78773004",
   "metadata": {},
   "source": [
    "# 트리 Tree"
   ]
  },
  {
   "cell_type": "markdown",
   "id": "37170090",
   "metadata": {},
   "source": [
    "## Node class "
   ]
  },
  {
   "cell_type": "code",
   "execution_count": 1,
   "id": "121c767f",
   "metadata": {},
   "outputs": [],
   "source": [
    "class Node:\n",
    "    def __init__(self, value):\n",
    "        self.value = value\n",
    "        self.left = None\n",
    "        self.right = None"
   ]
  },
  {
   "cell_type": "markdown",
   "id": "31bee64f",
   "metadata": {},
   "source": [
    "## Node Management\n",
    "### 이진 탐색 트리 데이터 삽입"
   ]
  },
  {
   "cell_type": "code",
   "execution_count": 2,
   "id": "a00c3ab7",
   "metadata": {},
   "outputs": [],
   "source": [
    "class NodeMgnt:\n",
    "    def __init__(self, head):\n",
    "        self.head = head\n",
    "    \n",
    "    def insert(self, value):\n",
    "        self.current_node = self.head\n",
    "        while True:\n",
    "            if value < self.current_node.value:\n",
    "                if self.current_noed.left != None:\n",
    "                    self.current_node = self.current_node.left\n",
    "                else:\n",
    "                    self.current_node.left = Node(value)\n",
    "                    break\n",
    "            else:\n",
    "                if self.current_node.right != None:\n",
    "                    self.cuttent_node = self.current_node.right\n",
    "                else:\n",
    "                    self.current_nodee.right = Node(value)\n",
    "                    break          "
   ]
  },
  {
   "cell_type": "markdown",
   "id": "39bc2086",
   "metadata": {},
   "source": [
    "### 이진 탐색 트리 데이터 탐색 추가"
   ]
  },
  {
   "cell_type": "code",
   "execution_count": 6,
   "id": "00e6b592",
   "metadata": {},
   "outputs": [],
   "source": [
    "class NodeMgnt:\n",
    "    def __init__(self, head):\n",
    "        self.head = head\n",
    "    \n",
    "    def insert(self, value):\n",
    "        self.current_node = self.head\n",
    "        while True:\n",
    "            if value < self.current_node.value:\n",
    "                if self.current_node.left != None:\n",
    "                    self.current_node = self.current_node.left\n",
    "                else:\n",
    "                    self.current_node.left = Node(value)\n",
    "                    break\n",
    "            else:\n",
    "                if self.current_node.right != None:\n",
    "                    self.cuttent_node = self.current_node.right\n",
    "                else:\n",
    "                    self.current_node.right = Node(value)\n",
    "                    break          \n",
    "                    \n",
    "                    \n",
    "    def search(self, value):\n",
    "        self.current_node = self.head\n",
    "        while self.current_node:\n",
    "            if self.current_node.value == value:\n",
    "                return True\n",
    "            elif value < self.current_node.value:\n",
    "                self.current_node = self.current_node.left\n",
    "            else:\n",
    "                self.current_node = self.current_node.right\n",
    "        \n",
    "        return False"
   ]
  },
  {
   "cell_type": "code",
   "execution_count": 8,
   "id": "cb749bba",
   "metadata": {},
   "outputs": [],
   "source": [
    "head = Node(10)\n",
    "BST = NodeMgnt(head)\n",
    "BST.insert(5)\n",
    "BST.insert(7)\n",
    "BST.insert(16)"
   ]
  },
  {
   "cell_type": "code",
   "execution_count": 11,
   "id": "d199748f",
   "metadata": {},
   "outputs": [
    {
     "data": {
      "text/plain": [
       "False"
      ]
     },
     "execution_count": 11,
     "metadata": {},
     "output_type": "execute_result"
    }
   ],
   "source": [
    "BST.search(9)"
   ]
  },
  {
   "cell_type": "markdown",
   "id": "769b0511",
   "metadata": {},
   "source": [
    "### 이진 탐색 트리 Node 삭제하기"
   ]
  },
  {
   "attachments": {},
   "cell_type": "markdown",
   "id": "9ba4207c",
   "metadata": {},
   "source": [
    "1. Leaf Node 삭제하기\n",
    "2. Chile Node가 하나인 Node 삭제하기\n",
    "3. Chile Node가 두 개인 Node 삭제하기"
   ]
  },
  {
   "cell_type": "code",
   "execution_count": null,
   "id": "0eec7498",
   "metadata": {},
   "outputs": [],
   "source": []
  }
 ],
 "metadata": {
  "kernelspec": {
   "display_name": "Python 3 (ipykernel)",
   "language": "python",
   "name": "python3"
  },
  "language_info": {
   "codemirror_mode": {
    "name": "ipython",
    "version": 3
   },
   "file_extension": ".py",
   "mimetype": "text/x-python",
   "name": "python",
   "nbconvert_exporter": "python",
   "pygments_lexer": "ipython3",
   "version": "3.8.10"
  }
 },
 "nbformat": 4,
 "nbformat_minor": 5
}
