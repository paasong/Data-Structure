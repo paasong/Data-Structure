{
 "cells": [
  {
   "cell_type": "markdown",
   "id": "f4ac9bc9",
   "metadata": {},
   "source": [
    "예시 코드"
   ]
  },
  {
   "cell_type": "code",
   "execution_count": null,
   "id": "480fc682",
   "metadata": {},
   "outputs": [],
   "source": [
    "print('hello world')"
   ]
  }
 ],
 "metadata": {
  "kernelspec": {
   "display_name": "Python 3 (ipykernel)",
   "language": "python",
   "name": "python3"
  },
  "language_info": {
   "codemirror_mode": {
    "name": "ipython",
    "version": 3
   },
   "file_extension": ".py",
   "mimetype": "text/x-python",
   "name": "python",
   "nbconvert_exporter": "python",
   "pygments_lexer": "ipython3",
   "version": "3.8.10"
  }
 },
 "nbformat": 4,
 "nbformat_minor": 5
}
