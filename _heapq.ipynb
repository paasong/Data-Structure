{
 "cells": [
  {
   "cell_type": "markdown",
   "id": "0e195707",
   "metadata": {},
   "source": [
    "## Heapq"
   ]
  },
  {
   "cell_type": "code",
   "execution_count": 17,
   "id": "82e6dabd",
   "metadata": {},
   "outputs": [],
   "source": [
    "import heapq"
   ]
  },
  {
   "cell_type": "markdown",
   "id": "d897d834",
   "metadata": {},
   "source": [
    "#### 사용법 <b>\n",
    "빈 list에 heapq 모듈 함수를 사용함"
   ]
  },
  {
   "cell_type": "code",
   "execution_count": 20,
   "id": "de1c56e2",
   "metadata": {},
   "outputs": [
    {
     "name": "stdout",
     "output_type": "stream",
     "text": [
      "[1, 2, 9, 5]\n"
     ]
    }
   ],
   "source": [
    "heap = list()\n",
    "\n",
    "heapq.heappush(heap,1)\n",
    "heapq.heappush(heap,5)\n",
    "heapq.heappush(heap,9)\n",
    "heapq.heappush(heap,2)\n",
    "\n",
    "print(heap)"
   ]
  },
  {
   "cell_type": "code",
   "execution_count": 22,
   "id": "454feb2a",
   "metadata": {},
   "outputs": [
    {
     "name": "stdout",
     "output_type": "stream",
     "text": [
      "2\n",
      "5\n",
      "[5, 9]\n"
     ]
    }
   ],
   "source": [
    "print(heapq.heappop(heap))\n",
    "print(heap[0])\n",
    "print(heap)"
   ]
  },
  {
   "cell_type": "code",
   "execution_count": 24,
   "id": "9038c21a",
   "metadata": {},
   "outputs": [
    {
     "name": "stdout",
     "output_type": "stream",
     "text": [
      "[5, 9, 7, 1, 2, 5, 6, 3]\n",
      "[1, 2, 5, 3, 5, 7, 6, 9]\n"
     ]
    }
   ],
   "source": [
    "a = [5,9,7,1,2,5,6,3]\n",
    "print(a)\n",
    "heapq.heapify(a)\n",
    "print(a)"
   ]
  },
  {
   "cell_type": "markdown",
   "id": "f1ecfa3b",
   "metadata": {},
   "source": [
    "##### max heap "
   ]
  },
  {
   "cell_type": "code",
   "execution_count": 33,
   "id": "a49fdc7e",
   "metadata": {},
   "outputs": [
    {
     "name": "stdout",
     "output_type": "stream",
     "text": [
      "[(-9, 9), (-5, 5), (-8, 8), (-1, 1), (-5, 5), (-4, 4), (-6, 6)]\n",
      "9\n",
      "8\n",
      "6\n",
      "5\n",
      "5\n",
      "4\n",
      "1\n"
     ]
    }
   ],
   "source": [
    "b = [5,8,9,1,5,4,6]\n",
    "h = list()\n",
    "for i in b:\n",
    "    heapq.heappush(h, (-i, i))\n",
    "print(h)\n",
    "while h:\n",
    "    print(heapq.heappop(h)[1])"
   ]
  }
 ],
 "metadata": {
  "kernelspec": {
   "display_name": "Python 3 (ipykernel)",
   "language": "python",
   "name": "python3"
  },
  "language_info": {
   "codemirror_mode": {
    "name": "ipython",
    "version": 3
   },
   "file_extension": ".py",
   "mimetype": "text/x-python",
   "name": "python",
   "nbconvert_exporter": "python",
   "pygments_lexer": "ipython3",
   "version": "3.8.10"
  }
 },
 "nbformat": 4,
 "nbformat_minor": 5
}
