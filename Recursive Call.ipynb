{
 "cells": [
  {
   "cell_type": "markdown",
   "id": "3b1bbf03",
   "metadata": {},
   "source": [
    "## 재귀 용법"
   ]
  },
  {
   "cell_type": "markdown",
   "id": "2f570784",
   "metadata": {},
   "source": [
    "많이 쓰이는 형태"
   ]
  },
  {
   "cell_type": "code",
   "execution_count": 71,
   "id": "6e49960b",
   "metadata": {},
   "outputs": [],
   "source": [
    "#case 1\n",
    "def function(input):\n",
    "    if input > threshold:\n",
    "        return function(input -1) # 상황에 맞게 변경해주기\n",
    "    else:\n",
    "        return input # 상황에 맞게 변경해주기\n",
    "    \n",
    "#case 2\n",
    "def function(input):\n",
    "    if input <= threshold:\n",
    "        return output \n",
    "    function(low_input)\n",
    "    return output"
   ]
  },
  {
   "cell_type": "markdown",
   "id": "e39ea76e",
   "metadata": {},
   "source": [
    "팩토리얼 구현 <br>\n",
    "2! = 1 x 2 <br>\n",
    "3! = 1 x 2 x 3 <br>\n",
    "4! = 1 x 2 x 3 x 4"
   ]
  },
  {
   "cell_type": "code",
   "execution_count": 43,
   "id": "7e768da3",
   "metadata": {},
   "outputs": [],
   "source": [
    "#팩토리얼 구현\n",
    "def factorial(num):\n",
    "    print('a',num)\n",
    "    if num > 1:\n",
    "        a = num * factorial(num-1) \n",
    "        print('b--',num)\n",
    "        print('c',a)\n",
    "        return a     \n",
    "    else:\n",
    "        return num"
   ]
  },
  {
   "cell_type": "code",
   "execution_count": 39,
   "id": "ab1cee8a",
   "metadata": {},
   "outputs": [],
   "source": [
    "#팩토리얼 구현\n",
    "def factorial(num):\n",
    "    if num > 1:\n",
    "        a = num * factorial(num-1) \n",
    "        return a     \n",
    "    else:\n",
    "        return num"
   ]
  },
  {
   "cell_type": "code",
   "execution_count": 44,
   "id": "117063be",
   "metadata": {},
   "outputs": [
    {
     "name": "stdout",
     "output_type": "stream",
     "text": [
      "a 4\n",
      "a 3\n",
      "a 2\n",
      "a 1\n",
      "24\n"
     ]
    }
   ],
   "source": [
    "print(factorial(4))"
   ]
  },
  {
   "cell_type": "markdown",
   "id": "9f49f3e7",
   "metadata": {},
   "source": [
    "### 재귀함수 프로그래밍 연습"
   ]
  },
  {
   "cell_type": "markdown",
   "id": "7946c8e5",
   "metadata": {},
   "source": [
    "#### 1. 1부터 num까지의 곱이 출력되는 함수 만들기"
   ]
  },
  {
   "cell_type": "code",
   "execution_count": 29,
   "id": "d38a8035",
   "metadata": {},
   "outputs": [],
   "source": [
    "#반복문\n",
    "def multiple_1(num):\n",
    "    return_value = 1\n",
    "    for i in range(1, num+1):\n",
    "        return_value *= i\n",
    "    return return_value"
   ]
  },
  {
   "cell_type": "code",
   "execution_count": 30,
   "id": "a451536d",
   "metadata": {},
   "outputs": [
    {
     "data": {
      "text/plain": [
       "3628800"
      ]
     },
     "execution_count": 30,
     "metadata": {},
     "output_type": "execute_result"
    }
   ],
   "source": [
    "multiple_1(10)"
   ]
  },
  {
   "cell_type": "code",
   "execution_count": 27,
   "id": "87201dad",
   "metadata": {},
   "outputs": [],
   "source": [
    "#재귀용법\n",
    "def multiple_2(num):\n",
    "    if num <= 1:\n",
    "        return num\n",
    "    return num * multiple_2(num-1)"
   ]
  },
  {
   "cell_type": "code",
   "execution_count": 31,
   "id": "75df47f0",
   "metadata": {},
   "outputs": [
    {
     "data": {
      "text/plain": [
       "3628800"
      ]
     },
     "execution_count": 31,
     "metadata": {},
     "output_type": "execute_result"
    }
   ],
   "source": [
    "multiple_2(10)"
   ]
  },
  {
   "cell_type": "markdown",
   "id": "dcd05818",
   "metadata": {},
   "source": [
    "#### 2. 숫자가 들어있는 리스트가 있을 때, 리스트의 합을 리턴하는 함수 만들기"
   ]
  },
  {
   "cell_type": "code",
   "execution_count": 46,
   "id": "01ef6ae5",
   "metadata": {},
   "outputs": [
    {
     "data": {
      "text/plain": [
       "[47, 97, 88, 79, 58, 18, 8, 20, 54, 60]"
      ]
     },
     "execution_count": 46,
     "metadata": {},
     "output_type": "execute_result"
    }
   ],
   "source": [
    "# 랜덤한 값이 들어간 list 만들기\n",
    "import random\n",
    "data = random.sample(range(100), 10)\n",
    "data"
   ]
  },
  {
   "cell_type": "code",
   "execution_count": 56,
   "id": "fde191bb",
   "metadata": {},
   "outputs": [],
   "source": [
    "# 반복문\n",
    "def sum_1(num):\n",
    "    sum = 0\n",
    "    for i in num:\n",
    "        sum += i\n",
    "    return sum"
   ]
  },
  {
   "cell_type": "code",
   "execution_count": 57,
   "id": "f1f376c2",
   "metadata": {},
   "outputs": [
    {
     "data": {
      "text/plain": [
       "529"
      ]
     },
     "execution_count": 57,
     "metadata": {},
     "output_type": "execute_result"
    }
   ],
   "source": [
    "sum_1(data)"
   ]
  },
  {
   "cell_type": "code",
   "execution_count": 60,
   "id": "16b67825",
   "metadata": {},
   "outputs": [],
   "source": [
    "# 재귀용법\n",
    "def sum_2(num):\n",
    "    if len(num) <= 1:\n",
    "        return num[0]\n",
    "    return num[0] + sum_2(num[1:])"
   ]
  },
  {
   "cell_type": "code",
   "execution_count": 62,
   "id": "ea159125",
   "metadata": {},
   "outputs": [
    {
     "data": {
      "text/plain": [
       "529"
      ]
     },
     "execution_count": 62,
     "metadata": {},
     "output_type": "execute_result"
    }
   ],
   "source": [
    "sum_2(data)"
   ]
  },
  {
   "cell_type": "markdown",
   "id": "30761c6e",
   "metadata": {},
   "source": [
    "#### 3. palindrome을 판단할 수 있는 함수 (palindrome 회문 -> 거꾸로 읽어도 제대로 읽어도 같은 단어, 문장) ex) level"
   ]
  },
  {
   "cell_type": "code",
   "execution_count": 74,
   "id": "cdd7d9ca",
   "metadata": {},
   "outputs": [],
   "source": [
    "#palindrome\n",
    "def palindrome(str):\n",
    "    if len(str) <= 1:\n",
    "        return True\n",
    "    elif str[0] != str[-1]:\n",
    "        return False\n",
    "    del str[0]\n",
    "    del str[-1]\n",
    "    return palindrome(str)"
   ]
  },
  {
   "cell_type": "code",
   "execution_count": 78,
   "id": "cbb09571",
   "metadata": {},
   "outputs": [
    {
     "data": {
      "text/plain": [
       "False"
      ]
     },
     "execution_count": 78,
     "metadata": {},
     "output_type": "execute_result"
    }
   ],
   "source": [
    "palindrome(list('leve3l'))"
   ]
  },
  {
   "cell_type": "code",
   "execution_count": 80,
   "id": "d98da068",
   "metadata": {},
   "outputs": [],
   "source": [
    "#palindrome _2\n",
    "def palindrome_2(str):\n",
    "    if len(str) <= 1:\n",
    "        return True\n",
    "    elif str[0] != str[-1]:\n",
    "        return False\n",
    "    return palindrome(str[1:-1])"
   ]
  },
  {
   "cell_type": "code",
   "execution_count": 83,
   "id": "b7487fea",
   "metadata": {},
   "outputs": [
    {
     "data": {
      "text/plain": [
       "True"
      ]
     },
     "execution_count": 83,
     "metadata": {},
     "output_type": "execute_result"
    }
   ],
   "source": [
    "palindrome_2(list('level'))"
   ]
  },
  {
   "cell_type": "markdown",
   "id": "dc4c8e1c",
   "metadata": {},
   "source": [
    "#### 4. 정수 n에 대해 n이 1이 될 때까지 홀수이면 3*n+1, n이 홀수이면 n/2 를 진행하는 함수 (과정 출력)"
   ]
  },
  {
   "cell_type": "code",
   "execution_count": 91,
   "id": "2113232a",
   "metadata": {},
   "outputs": [],
   "source": [
    "def func(num):\n",
    "    if num == 1:\n",
    "        print(num)\n",
    "        return 'done'\n",
    "    elif num % 2 == 1:\n",
    "        print(num)\n",
    "        func(3*num+1)\n",
    "    else:\n",
    "        print(num)\n",
    "        func(num/2)"
   ]
  },
  {
   "cell_type": "code",
   "execution_count": 1,
   "id": "1bdfaffe",
   "metadata": {},
   "outputs": [
    {
     "ename": "NameError",
     "evalue": "name 'func' is not defined",
     "output_type": "error",
     "traceback": [
      "\u001b[1;31m---------------------------------------------------------------------------\u001b[0m",
      "\u001b[1;31mNameError\u001b[0m                                 Traceback (most recent call last)",
      "\u001b[1;32m~\\AppData\\Local\\Temp\\ipykernel_13712\\2069180713.py\u001b[0m in \u001b[0;36m<module>\u001b[1;34m\u001b[0m\n\u001b[1;32m----> 1\u001b[1;33m \u001b[0mfunc\u001b[0m\u001b[1;33m(\u001b[0m\u001b[1;36m3\u001b[0m\u001b[1;33m)\u001b[0m\u001b[1;33m\u001b[0m\u001b[1;33m\u001b[0m\u001b[0m\n\u001b[0m",
      "\u001b[1;31mNameError\u001b[0m: name 'func' is not defined"
     ]
    }
   ],
   "source": [
    "func(3)"
   ]
  },
  {
   "cell_type": "markdown",
   "id": "cc3e4573",
   "metadata": {},
   "source": [
    "재귀 함수 None "
   ]
  },
  {
   "cell_type": "code",
   "execution_count": 49,
   "id": "7701a89d",
   "metadata": {},
   "outputs": [],
   "source": [
    "def func_1(num):\n",
    "    if num <= 1:\n",
    "        return num\n",
    "    if num % 10 == 0 :\n",
    "        return num\n",
    "    else:\n",
    "        return func_1(num+1)"
   ]
  },
  {
   "cell_type": "code",
   "execution_count": 50,
   "id": "bf4f93b0",
   "metadata": {},
   "outputs": [],
   "source": [
    "def func_2(num):\n",
    "    print(num)\n",
    "    if num <= 1:\n",
    "        return num\n",
    "    if num % 10 == 0 :\n",
    "        return num\n",
    "    else:\n",
    "        func_2(num+1)"
   ]
  },
  {
   "cell_type": "code",
   "execution_count": 51,
   "id": "669bffcc",
   "metadata": {},
   "outputs": [
    {
     "data": {
      "text/plain": [
       "20"
      ]
     },
     "execution_count": 51,
     "metadata": {},
     "output_type": "execute_result"
    }
   ],
   "source": [
    "func_1(17)"
   ]
  },
  {
   "cell_type": "code",
   "execution_count": 52,
   "id": "6dc19d8c",
   "metadata": {},
   "outputs": [
    {
     "name": "stdout",
     "output_type": "stream",
     "text": [
      "17\n",
      "18\n",
      "19\n",
      "20\n"
     ]
    }
   ],
   "source": [
    "func_2(17)"
   ]
  }
 ],
 "metadata": {
  "kernelspec": {
   "display_name": "Python 3 (ipykernel)",
   "language": "python",
   "name": "python3"
  },
  "language_info": {
   "codemirror_mode": {
    "name": "ipython",
    "version": 3
   },
   "file_extension": ".py",
   "mimetype": "text/x-python",
   "name": "python",
   "nbconvert_exporter": "python",
   "pygments_lexer": "ipython3",
   "version": "3.9.13"
  }
 },
 "nbformat": 4,
 "nbformat_minor": 5
}
