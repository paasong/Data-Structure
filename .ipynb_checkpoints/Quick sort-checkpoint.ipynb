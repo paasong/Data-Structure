{
 "cells": [
  {
   "cell_type": "markdown",
   "id": "01fd5ff5",
   "metadata": {},
   "source": [
    "### 퀵 정렬 Quick sort"
   ]
  },
  {
   "cell_type": "code",
   "execution_count": 86,
   "id": "26357e1f",
   "metadata": {},
   "outputs": [],
   "source": [
    "def qsort(num_list):  \n",
    "    # 분류된 데이터가 1개 이하가 될 때까지\n",
    "    if len(num_list) <= 1:\n",
    "        return num_list\n",
    "    \n",
    "    left, right = list(), list()\n",
    "    pivot = num_list[0]\n",
    "    \n",
    "    for i in range(1, len(num_list)):\n",
    "        if pivot > num_list[i]:\n",
    "            left.append(num_list[i])\n",
    "        else:\n",
    "            right.append(num_list[i])\n",
    "\n",
    "    \n",
    "    return qsort(left) + [pivot] + qsort(right)\n"
   ]
  },
  {
   "cell_type": "code",
   "execution_count": 87,
   "id": "c384a708",
   "metadata": {},
   "outputs": [
    {
     "data": {
      "text/plain": [
       "[3, 25, 30, 35, 42, 65, 71, 88, 91, 92]"
      ]
     },
     "execution_count": 87,
     "metadata": {},
     "output_type": "execute_result"
    }
   ],
   "source": [
    "import random\n",
    "a = random.sample(range(100),10)\n",
    "qsort(a)"
   ]
  },
  {
   "cell_type": "code",
   "execution_count": 91,
   "id": "008fa46b",
   "metadata": {},
   "outputs": [
    {
     "data": {
      "text/plain": [
       "[3, 25, 30, 35, 42, 65, 71, 88, 91, 92]"
      ]
     },
     "execution_count": 91,
     "metadata": {},
     "output_type": "execute_result"
    }
   ],
   "source": [
    "qsort(a)"
   ]
  },
  {
   "cell_type": "code",
   "execution_count": 100,
   "id": "b09a2b15",
   "metadata": {},
   "outputs": [],
   "source": [
    "# list comprehension\n",
    "def c_qsort(num_list):  \n",
    "    # 분류된 데이터가 1개 이하가 될 때까지\n",
    "    if len(num_list) <= 1:\n",
    "        return num_list\n",
    "\n",
    "    pivot = num_list[0]\n",
    "    \n",
    "    left = [item for item in num_list[1:] if pivot > item]\n",
    "    right = [item for item in num_list[1:] if pivot <= item]\n",
    "\n",
    "\n",
    "    \n",
    "    return c_qsort(left) + [pivot] + c_qsort(right)\n"
   ]
  },
  {
   "cell_type": "code",
   "execution_count": 101,
   "id": "a07b18b6",
   "metadata": {},
   "outputs": [
    {
     "data": {
      "text/plain": [
       "[12, 19, 26, 30, 58, 65, 69, 71, 75, 88]"
      ]
     },
     "execution_count": 101,
     "metadata": {},
     "output_type": "execute_result"
    }
   ],
   "source": [
    "import random\n",
    "a = random.sample(range(100),10)\n",
    "c_qsort(a)"
   ]
  }
 ],
 "metadata": {
  "kernelspec": {
   "display_name": "Python 3 (ipykernel)",
   "language": "python",
   "name": "python3"
  },
  "language_info": {
   "codemirror_mode": {
    "name": "ipython",
    "version": 3
   },
   "file_extension": ".py",
   "mimetype": "text/x-python",
   "name": "python",
   "nbconvert_exporter": "python",
   "pygments_lexer": "ipython3",
   "version": "3.8.10"
  }
 },
 "nbformat": 4,
 "nbformat_minor": 5
}
