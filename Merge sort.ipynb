{
 "cells": [
  {
   "cell_type": "markdown",
   "id": "5b70e7e6",
   "metadata": {},
   "source": [
    "## Merge Sort"
   ]
  },
  {
   "cell_type": "markdown",
   "id": "1b9d0c3e",
   "metadata": {},
   "source": [
    "#### list Split"
   ]
  },
  {
   "cell_type": "code",
   "execution_count": 22,
   "id": "2a748815",
   "metadata": {},
   "outputs": [],
   "source": [
    "def split(data):\n",
    "    medium = int(len(data)/2) \n",
    "    left = data[:medium]\n",
    "    right = data[medium:]\n",
    "    print(left, right)"
   ]
  },
  {
   "cell_type": "markdown",
   "id": "90b57d87",
   "metadata": {},
   "source": [
    "#### list merge"
   ]
  },
  {
   "cell_type": "code",
   "execution_count": 46,
   "id": "9da0452b",
   "metadata": {},
   "outputs": [],
   "source": [
    "def merge(left, right):\n",
    "    merged = list()\n",
    "    print(left, right)\n",
    "    lp, rp = 0, 0 #index 번호\n",
    "\n",
    "    \n",
    "    #case1: left, right에 값이 있을 때\n",
    "    while len(left) > lp and len(right) > rp :\n",
    "        if left[lp] > right[rp]:\n",
    "            merged.append(right[rp])\n",
    "            rp += 1\n",
    "        else:\n",
    "            merged.append(left[lp])\n",
    "            lp += 1\n",
    "    \n",
    "    #case2: left만 남음\n",
    "    while len(left) > lp:\n",
    "        merged.append(left[lp])\n",
    "        lp += 1\n",
    "        \n",
    "    #case3 : right만 남음\n",
    "    while len(right) >rp:\n",
    "        merged.append(right[rp])\n",
    "        rp += 1\n",
    "            \n",
    "    return merged"
   ]
  },
  {
   "cell_type": "code",
   "execution_count": 47,
   "id": "82e948a8",
   "metadata": {},
   "outputs": [],
   "source": [
    "def merge_sort(data):\n",
    "    if len(data)<=1:\n",
    "        return data\n",
    "    medium = int(len(data)/2)\n",
    "    left = merge_sort(data[:medium])\n",
    "    right = merge_sort(data[medium:])\n",
    "    return merge(left, right)"
   ]
  },
  {
   "cell_type": "markdown",
   "id": "4ed356d1",
   "metadata": {},
   "source": [
    "final code"
   ]
  },
  {
   "cell_type": "code",
   "execution_count": 48,
   "id": "7a14b026",
   "metadata": {},
   "outputs": [
    {
     "name": "stdout",
     "output_type": "stream",
     "text": [
      "[69, 66, 31, 34, 91, 82, 86, 0, 48, 4]\n",
      "[69] [66]\n",
      "[34] [91]\n",
      "[31] [34, 91]\n",
      "[66, 69] [31, 34, 91]\n",
      "[82] [86]\n",
      "[48] [4]\n",
      "[0] [4, 48]\n",
      "[82, 86] [0, 4, 48]\n",
      "[31, 34, 66, 69, 91] [0, 4, 48, 82, 86]\n"
     ]
    },
    {
     "data": {
      "text/plain": [
       "[0, 4, 31, 34, 48, 66, 69, 82, 86, 91]"
      ]
     },
     "execution_count": 48,
     "metadata": {},
     "output_type": "execute_result"
    }
   ],
   "source": [
    "import random\n",
    "\n",
    "data_list = random.sample(range(100), 10)\n",
    "print(data_list)\n",
    "\n",
    "merge_sort(data_list)"
   ]
  }
 ],
 "metadata": {
  "kernelspec": {
   "display_name": "Python 3 (ipykernel)",
   "language": "python",
   "name": "python3"
  },
  "language_info": {
   "codemirror_mode": {
    "name": "ipython",
    "version": 3
   },
   "file_extension": ".py",
   "mimetype": "text/x-python",
   "name": "python",
   "nbconvert_exporter": "python",
   "pygments_lexer": "ipython3",
   "version": "3.9.13"
  }
 },
 "nbformat": 4,
 "nbformat_minor": 5
}
