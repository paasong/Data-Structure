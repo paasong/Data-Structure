{
 "cells": [
  {
   "cell_type": "markdown",
   "id": "4e5ec79f",
   "metadata": {},
   "source": [
    "##  동적 계획법 알고리즘 이해"
   ]
  },
  {
   "cell_type": "markdown",
   "id": "7a0a2cae",
   "metadata": {},
   "source": [
    "피보나치 수열"
   ]
  },
  {
   "cell_type": "markdown",
   "id": "bc881a12",
   "metadata": {},
   "source": [
    "#### recurisive call"
   ]
  },
  {
   "cell_type": "code",
   "execution_count": 1,
   "id": "4ce21295",
   "metadata": {},
   "outputs": [],
   "source": [
    "def fibo(num):\n",
    "    if num <= 1:\n",
    "        return num\n",
    "    return fibo(num-1) + fibo(num-2)"
   ]
  },
  {
   "cell_type": "code",
   "execution_count": 2,
   "id": "1ffdf1b4",
   "metadata": {},
   "outputs": [
    {
     "data": {
      "text/plain": [
       "55"
      ]
     },
     "execution_count": 2,
     "metadata": {},
     "output_type": "execute_result"
    }
   ],
   "source": [
    "fibo(10)"
   ]
  },
  {
   "cell_type": "markdown",
   "id": "ef475fd3",
   "metadata": {},
   "source": [
    "#### dynamic programming"
   ]
  },
  {
   "cell_type": "code",
   "execution_count": 3,
   "id": "52c53004",
   "metadata": {},
   "outputs": [],
   "source": [
    "def fidp(num):\n",
    "    # Memorization\n",
    "    cache = [0 for _ in range(num+1)]\n",
    "    cache[0] = 0\n",
    "    cache[1] = 1\n",
    "    \n",
    "    for i in range(2, num+1):\n",
    "        cache[i] = cache[i-1]+cache[i-2]\n",
    "    return cache[num]"
   ]
  },
  {
   "cell_type": "code",
   "execution_count": 4,
   "id": "f61759b9",
   "metadata": {},
   "outputs": [
    {
     "data": {
      "text/plain": [
       "55"
      ]
     },
     "execution_count": 4,
     "metadata": {},
     "output_type": "execute_result"
    }
   ],
   "source": [
    "fidp(10)"
   ]
  },
  {
   "cell_type": "code",
   "execution_count": 11,
   "id": "bf9a803e",
   "metadata": {},
   "outputs": [
    {
     "name": "stdout",
     "output_type": "stream",
     "text": [
      "832040\n",
      "0.1452026367\n"
     ]
    }
   ],
   "source": [
    "import time\n",
    "\n",
    "start = time.time()\n",
    "print(fibo(30))\n",
    "sec = time.time()-start\n",
    "\n",
    "\n",
    "\n",
    "print('{:.10f}'.format(sec))"
   ]
  },
  {
   "cell_type": "code",
   "execution_count": 13,
   "id": "82371b2a",
   "metadata": {},
   "outputs": [
    {
     "name": "stdout",
     "output_type": "stream",
     "text": [
      "832040\n",
      "0.0000000000\n"
     ]
    }
   ],
   "source": [
    "import time\n",
    "\n",
    "start = time.time()\n",
    "print(fidp(30))\n",
    "sec = time.time()-start\n",
    "\n",
    "\n",
    "\n",
    "print('{:.10f}'.format(sec))"
   ]
  },
  {
   "cell_type": "markdown",
   "id": "3126a4e1",
   "metadata": {},
   "source": [
    "### 실전 문제"
   ]
  },
  {
   "cell_type": "code",
   "execution_count": null,
   "id": "c8237b1d",
   "metadata": {},
   "outputs": [],
   "source": []
  }
 ],
 "metadata": {
  "kernelspec": {
   "display_name": "Python 3 (ipykernel)",
   "language": "python",
   "name": "python3"
  },
  "language_info": {
   "codemirror_mode": {
    "name": "ipython",
    "version": 3
   },
   "file_extension": ".py",
   "mimetype": "text/x-python",
   "name": "python",
   "nbconvert_exporter": "python",
   "pygments_lexer": "ipython3",
   "version": "3.8.10"
  }
 },
 "nbformat": 4,
 "nbformat_minor": 5
}
