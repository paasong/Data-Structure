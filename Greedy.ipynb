{
 "cells": [
  {
   "cell_type": "markdown",
   "id": "b33b6879",
   "metadata": {},
   "source": [
    "## 탐욕법 Greedy"
   ]
  },
  {
   "cell_type": "markdown",
   "id": "6f95f6a2",
   "metadata": {},
   "source": [
    "매 순간 최적의 해에 가까운 값을 구하기 위해 사용함"
   ]
  },
  {
   "cell_type": "markdown",
   "id": "39c54f95",
   "metadata": {},
   "source": [
    "### 동전 문제"
   ]
  },
  {
   "cell_type": "markdown",
   "id": "a2850c3d",
   "metadata": {},
   "source": [
    "지불해야하는 가격이 money 일 때 10원, 50원, 100원, 500원 동전으로 동전의 수가 가작 적게나오게 지불하시오"
   ]
  },
  {
   "cell_type": "code",
   "execution_count": 6,
   "id": "97fba1f8",
   "metadata": {},
   "outputs": [],
   "source": [
    "coin = [500, 100, 50, 10]\n",
    "\n",
    "def min_coin_cnt(value, coin):\n",
    "    total_coin_cnt = 0\n",
    "    details = list()\n",
    "    coin.sort(reverse = True)\n",
    "    for co in coin:\n",
    "        co_num = value // co\n",
    "        total_coin_cnt += co_num\n",
    "        value -= co_num * co\n",
    "        details.append([co, co_num])\n",
    "        \n",
    "    return total_coin_cnt, details"
   ]
  },
  {
   "cell_type": "code",
   "execution_count": 8,
   "id": "8edc0f65",
   "metadata": {},
   "outputs": [
    {
     "data": {
      "text/plain": [
       "(13, [[500, 9], [100, 2], [50, 0], [10, 2]])"
      ]
     },
     "execution_count": 8,
     "metadata": {},
     "output_type": "execute_result"
    }
   ],
   "source": [
    "min_coin_cnt(4720,coin)"
   ]
  },
  {
   "cell_type": "markdown",
   "id": "17af6d72",
   "metadata": {},
   "source": [
    "### 부분 배낭 문제"
   ]
  },
  {
   "cell_type": "markdown",
   "id": "2b8ca966",
   "metadata": {},
   "source": [
    "- 무게 제한이 k인 배당에 최대 가치를 가지도록 물건을 넣는 문제\n",
    "    - 각 물건은 무게(w)와 가치(v)로 표현될 수 있음\n",
    "    - 물건은 쪼갤 수 있으므로 물건의 일부분이 배낭에 넣어질 수 있음(Fractional Knapsack Problem)"
   ]
  },
  {
   "cell_type": "code",
   "execution_count": 15,
   "id": "42ada2b6",
   "metadata": {},
   "outputs": [],
   "source": [
    "data_list = [(10, 10), (15, 12), (20, 10), (25, 8),(30, 5)]\n",
    "# deta_list = sorted(data_list, key=lambda x: x[1]/x[0], reverse = True)\n",
    "# data_list"
   ]
  },
  {
   "cell_type": "code",
   "execution_count": 18,
   "id": "d2105d79",
   "metadata": {},
   "outputs": [],
   "source": [
    "data_list = [(10, 10), (15, 12), (20, 10), (25, 8),(30, 5)]\n",
    "def get_max_value(data_list, capacity):\n",
    "    data_list = sorted(data_list, key = lambda x: x[1]/x[0], reverse=True)\n",
    "    total_value = 0\n",
    "    details = list()\n",
    "    \n",
    "    for data in data_list:\n",
    "        if capacity - data[0] >= 0:\n",
    "            capacity -= data[0]\n",
    "            total_value += data[1]\n",
    "            details.append([data[0], data[1], 1])\n",
    "        else:\n",
    "            fraction = capacity / data[0]\n",
    "            total_value += data[1] * fraction\n",
    "            details.append([data[0], data[1], fraction])\n",
    "            break\n",
    "    return total_value, details"
   ]
  },
  {
   "cell_type": "code",
   "execution_count": 19,
   "id": "301d2d7c",
   "metadata": {},
   "outputs": [
    {
     "data": {
      "text/plain": [
       "(24.5, [[10, 10, 1], [15, 12, 1], [20, 10, 0.25]])"
      ]
     },
     "execution_count": 19,
     "metadata": {},
     "output_type": "execute_result"
    }
   ],
   "source": [
    "get_max_value(data_list, 30)"
   ]
  }
 ],
 "metadata": {
  "kernelspec": {
   "display_name": "Python 3 (ipykernel)",
   "language": "python",
   "name": "python3"
  },
  "language_info": {
   "codemirror_mode": {
    "name": "ipython",
    "version": 3
   },
   "file_extension": ".py",
   "mimetype": "text/x-python",
   "name": "python",
   "nbconvert_exporter": "python",
   "pygments_lexer": "ipython3",
   "version": "3.9.13"
  }
 },
 "nbformat": 4,
 "nbformat_minor": 5
}
