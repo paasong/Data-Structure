{
 "cells": [
  {
   "cell_type": "markdown",
   "id": "b265f4d4",
   "metadata": {},
   "source": [
    "## 이진 탐색 Binary Search"
   ]
  },
  {
   "cell_type": "code",
   "execution_count": 15,
   "id": "87e10f0d",
   "metadata": {},
   "outputs": [],
   "source": [
    "def binary_search(data_list, find_data):\n",
    "    if len(data_list) == 1 and find_data == data_list[0]:\n",
    "        return True\n",
    "    if len(data_list) == 1 and find_data != data_list[0]:\n",
    "        return False\n",
    "    if len(data_list) == 0:\n",
    "        return False\n",
    "    \n",
    "    medium = len(data_list)//2\n",
    "    print(data_list)\n",
    "    if find_data == data_list[medium]:\n",
    "        return True\n",
    "    else:\n",
    "        if find_data > data_list[medium]:\n",
    "            return binary_search(data_list[medium:], find_data)\n",
    "        else:\n",
    "            return binary_search(data_list[:medium], find_data)"
   ]
  },
  {
   "cell_type": "markdown",
   "id": "bb59002e",
   "metadata": {},
   "source": [
    "random data로 실험하기"
   ]
  },
  {
   "cell_type": "code",
   "execution_count": 7,
   "id": "eb60d93b",
   "metadata": {},
   "outputs": [
    {
     "data": {
      "text/plain": [
       "[65, 52, 44, 75, 76, 81, 25, 34, 79, 46]"
      ]
     },
     "execution_count": 7,
     "metadata": {},
     "output_type": "execute_result"
    }
   ],
   "source": [
    "import random\n",
    "data_list = random.sample(range(100),10)\n",
    "data_list"
   ]
  },
  {
   "cell_type": "code",
   "execution_count": 9,
   "id": "64e1293f",
   "metadata": {},
   "outputs": [
    {
     "data": {
      "text/plain": [
       "[25, 34, 44, 46, 52, 65, 75, 76, 79, 81]"
      ]
     },
     "execution_count": 9,
     "metadata": {},
     "output_type": "execute_result"
    }
   ],
   "source": [
    "data_list.sort()\n",
    "data_list"
   ]
  },
  {
   "cell_type": "code",
   "execution_count": 16,
   "id": "7b5fcd3e",
   "metadata": {},
   "outputs": [
    {
     "name": "stdout",
     "output_type": "stream",
     "text": [
      "[25, 34, 44, 46, 52, 65, 75, 76, 79, 81]\n",
      "[65, 75, 76, 79, 81]\n",
      "[76, 79, 81]\n"
     ]
    },
    {
     "data": {
      "text/plain": [
       "False"
      ]
     },
     "execution_count": 16,
     "metadata": {},
     "output_type": "execute_result"
    }
   ],
   "source": [
    "binary_search(data_list, 78)"
   ]
  }
 ],
 "metadata": {
  "kernelspec": {
   "display_name": "Python 3 (ipykernel)",
   "language": "python",
   "name": "python3"
  },
  "language_info": {
   "codemirror_mode": {
    "name": "ipython",
    "version": 3
   },
   "file_extension": ".py",
   "mimetype": "text/x-python",
   "name": "python",
   "nbconvert_exporter": "python",
   "pygments_lexer": "ipython3",
   "version": "3.9.13"
  }
 },
 "nbformat": 4,
 "nbformat_minor": 5
}
