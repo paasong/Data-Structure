{
 "cells": [
  {
   "cell_type": "markdown",
   "id": "abd0ab35",
   "metadata": {},
   "source": [
    "## 순차 탐색 Sequential Search"
   ]
  },
  {
   "cell_type": "code",
   "execution_count": 12,
   "id": "f4386006",
   "metadata": {},
   "outputs": [
    {
     "data": {
      "text/plain": [
       "[76, 65, 93, 48, 82, 26, 29, 78, 32, 95]"
      ]
     },
     "execution_count": 12,
     "metadata": {},
     "output_type": "execute_result"
    }
   ],
   "source": [
    "import random\n",
    "data_list = random.sample(range(100),10)\n",
    "data_list"
   ]
  },
  {
   "cell_type": "code",
   "execution_count": 23,
   "id": "6062e811",
   "metadata": {},
   "outputs": [],
   "source": [
    "def sequential(data_list, find_data):\n",
    "    print(data_list)\n",
    "    for i in range(len(data_list)):\n",
    "        if data_list[i] == find_data:\n",
    "            return i\n",
    "    return -1"
   ]
  },
  {
   "cell_type": "code",
   "execution_count": 25,
   "id": "a501abd3",
   "metadata": {},
   "outputs": [
    {
     "name": "stdout",
     "output_type": "stream",
     "text": [
      "[76, 65, 93, 48, 82, 26, 29, 78, 32, 95]\n"
     ]
    },
    {
     "data": {
      "text/plain": [
       "8"
      ]
     },
     "execution_count": 25,
     "metadata": {},
     "output_type": "execute_result"
    }
   ],
   "source": [
    "sequential(data_list, 32)"
   ]
  },
  {
   "cell_type": "markdown",
   "id": "c6cb23cb",
   "metadata": {},
   "source": [
    "### 시간 복잡도"
   ]
  },
  {
   "cell_type": "markdown",
   "id": "f7728727",
   "metadata": {},
   "source": [
    "O(n)"
   ]
  }
 ],
 "metadata": {
  "kernelspec": {
   "display_name": "Python 3 (ipykernel)",
   "language": "python",
   "name": "python3"
  },
  "language_info": {
   "codemirror_mode": {
    "name": "ipython",
    "version": 3
   },
   "file_extension": ".py",
   "mimetype": "text/x-python",
   "name": "python",
   "nbconvert_exporter": "python",
   "pygments_lexer": "ipython3",
   "version": "3.8.10"
  }
 },
 "nbformat": 4,
 "nbformat_minor": 5
}
